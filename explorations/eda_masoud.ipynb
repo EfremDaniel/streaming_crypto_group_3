{
 "cells": [
  {
   "cell_type": "markdown",
   "metadata": {},
   "source": [
    "# EDA Masoud"
   ]
  },
  {
   "cell_type": "code",
   "execution_count": 4,
   "metadata": {},
   "outputs": [
    {
     "data": {
      "text/plain": [
       "{'status': {'timestamp': '2025-02-12T11:13:12.604Z',\n",
       "  'error_code': 0,\n",
       "  'error_message': None,\n",
       "  'elapsed': 33,\n",
       "  'credit_count': 1,\n",
       "  'notice': None},\n",
       " 'data': {'XRP': {'id': 52,\n",
       "   'name': 'XRP',\n",
       "   'symbol': 'XRP',\n",
       "   'slug': 'xrp',\n",
       "   'num_market_pairs': 1528,\n",
       "   'date_added': '2013-08-04T00:00:00.000Z',\n",
       "   'tags': ['medium-of-exchange',\n",
       "    'enterprise-solutions',\n",
       "    'xrp-ecosystem',\n",
       "    'arrington-xrp-capital-portfolio',\n",
       "    'galaxy-digital-portfolio',\n",
       "    'a16z-portfolio',\n",
       "    'pantera-capital-portfolio',\n",
       "    'bnb-chain-ecosystem',\n",
       "    'ftx-bankruptcy-estate',\n",
       "    '2017-2018-alt-season',\n",
       "    'klaytn-ecosystem',\n",
       "    'made-in-america'],\n",
       "   'max_supply': 100000000000,\n",
       "   'circulating_supply': 57762545657,\n",
       "   'total_supply': 99986504676,\n",
       "   'is_active': 1,\n",
       "   'infinite_supply': False,\n",
       "   'platform': None,\n",
       "   'cmc_rank': 4,\n",
       "   'is_fiat': 0,\n",
       "   'self_reported_circulating_supply': None,\n",
       "   'self_reported_market_cap': None,\n",
       "   'tvl_ratio': None,\n",
       "   'last_updated': '2025-02-12T11:12:00.000Z',\n",
       "   'quote': {'USD': {'price': 2.4145434178711533,\n",
       "     'volume_24h': 4367280964.469153,\n",
       "     'volume_change_24h': -2.7817,\n",
       "     'percent_change_1h': -0.06515741,\n",
       "     'percent_change_24h': -2.74868702,\n",
       "     'percent_change_7d': -4.74325354,\n",
       "     'percent_change_30d': 0.39255782,\n",
       "     'percent_change_60d': -0.77369996,\n",
       "     'percent_change_90d': 244.01598201,\n",
       "     'market_cap': 139470174415.59134,\n",
       "     'market_cap_dominance': 4.414,\n",
       "     'fully_diluted_market_cap': 241454341787.12,\n",
       "     'tvl': None,\n",
       "     'last_updated': '2025-02-12T11:12:00.000Z'}}}}}"
      ]
     },
     "execution_count": 4,
     "metadata": {},
     "output_type": "execute_result"
    }
   ],
   "source": [
    "from requests import Request, Session\n",
    "from requests.exceptions import ConnectionError, Timeout, TooManyRedirects\n",
    "import json\n",
    "from pprint import pprint\n",
    "import os \n",
    "from dotenv import load_dotenv\n",
    "\n",
    "load_dotenv()\n",
    "\n",
    "API_KEY = os.getenv(\"COINMARKET_API\")\n",
    "\n",
    "API_URL = \"https://pro-api.coinmarketcap.com/v1/cryptocurrency/quotes/latest\"\n",
    "\n",
    "target_symbol = \"XRP\"\n",
    "\n",
    "parameters = {\n",
    "  'symbol': target_symbol,\n",
    "  'convert':'USD'\n",
    "}\n",
    "\n",
    "headers = {\n",
    "  'Accepts': 'application/json',\n",
    "  'X-CMC_PRO_API_KEY': API_KEY,\n",
    "}\n",
    "\n",
    "session = Session()\n",
    "session.headers.update(headers)\n",
    "\n",
    "try:\n",
    "  response = session.get(API_URL, params=parameters)\n",
    "  data = json.loads(response.text)\n",
    "except (ConnectionError, Timeout, TooManyRedirects) as e:\n",
    "  print(e)\n",
    "\n",
    "data"
   ]
  },
  {
   "cell_type": "code",
   "execution_count": 5,
   "metadata": {},
   "outputs": [
    {
     "data": {
      "text/plain": [
       "dict_keys(['status', 'data'])"
      ]
     },
     "execution_count": 5,
     "metadata": {},
     "output_type": "execute_result"
    }
   ],
   "source": [
    "data.keys()"
   ]
  },
  {
   "cell_type": "code",
   "execution_count": 6,
   "metadata": {},
   "outputs": [
    {
     "data": {
      "text/plain": [
       "dict_keys(['XRP'])"
      ]
     },
     "execution_count": 6,
     "metadata": {},
     "output_type": "execute_result"
    }
   ],
   "source": [
    "data[\"data\"].keys()"
   ]
  },
  {
   "cell_type": "code",
   "execution_count": 8,
   "metadata": {},
   "outputs": [
    {
     "data": {
      "text/plain": [
       "dict_keys(['id', 'name', 'symbol', 'slug', 'num_market_pairs', 'date_added', 'tags', 'max_supply', 'circulating_supply', 'total_supply', 'is_active', 'infinite_supply', 'platform', 'cmc_rank', 'is_fiat', 'self_reported_circulating_supply', 'self_reported_market_cap', 'tvl_ratio', 'last_updated', 'quote'])"
      ]
     },
     "execution_count": 8,
     "metadata": {},
     "output_type": "execute_result"
    }
   ],
   "source": [
    "coin_data = data[\"data\"][\"XRP\"]\n",
    "coin_data.keys()"
   ]
  },
  {
   "cell_type": "code",
   "execution_count": 11,
   "metadata": {},
   "outputs": [
    {
     "data": {
      "text/plain": [
       "('XRP',\n",
       " 'XRP',\n",
       " {'USD': {'price': 2.4145434178711533,\n",
       "   'volume_24h': 4367280964.469153,\n",
       "   'volume_change_24h': -2.7817,\n",
       "   'percent_change_1h': -0.06515741,\n",
       "   'percent_change_24h': -2.74868702,\n",
       "   'percent_change_7d': -4.74325354,\n",
       "   'percent_change_30d': 0.39255782,\n",
       "   'percent_change_60d': -0.77369996,\n",
       "   'percent_change_90d': 244.01598201,\n",
       "   'market_cap': 139470174415.59134,\n",
       "   'market_cap_dominance': 4.414,\n",
       "   'fully_diluted_market_cap': 241454341787.12,\n",
       "   'tvl': None,\n",
       "   'last_updated': '2025-02-12T11:12:00.000Z'}})"
      ]
     },
     "execution_count": 11,
     "metadata": {},
     "output_type": "execute_result"
    }
   ],
   "source": [
    "coin_data[\"name\"], coin_data[\"symbol\"], coin_data[\"quote\"]"
   ]
  },
  {
   "cell_type": "code",
   "execution_count": 12,
   "metadata": {},
   "outputs": [
    {
     "data": {
      "text/plain": [
       "{'price': 2.4145434178711533,\n",
       " 'volume_24h': 4367280964.469153,\n",
       " 'volume_change_24h': -2.7817,\n",
       " 'percent_change_1h': -0.06515741,\n",
       " 'percent_change_24h': -2.74868702,\n",
       " 'percent_change_7d': -4.74325354,\n",
       " 'percent_change_30d': 0.39255782,\n",
       " 'percent_change_60d': -0.77369996,\n",
       " 'percent_change_90d': 244.01598201,\n",
       " 'market_cap': 139470174415.59134,\n",
       " 'market_cap_dominance': 4.414,\n",
       " 'fully_diluted_market_cap': 241454341787.12,\n",
       " 'tvl': None,\n",
       " 'last_updated': '2025-02-12T11:12:00.000Z'}"
      ]
     },
     "execution_count": 12,
     "metadata": {},
     "output_type": "execute_result"
    }
   ],
   "source": [
    "quote = coin_data[\"quote\"][\"USD\"]\n",
    "quote"
   ]
  },
  {
   "cell_type": "code",
   "execution_count": 13,
   "metadata": {},
   "outputs": [
    {
     "data": {
      "text/plain": [
       "(2.4145434178711533, 4367280964.469153, '2025-02-12T11:12:00.000Z')"
      ]
     },
     "execution_count": 13,
     "metadata": {},
     "output_type": "execute_result"
    }
   ],
   "source": [
    "quote[\"price\"], quote[\"volume_24h\"], quote[\"last_updated\"]"
   ]
  }
 ],
 "metadata": {
  "language_info": {
   "name": "python"
  }
 },
 "nbformat": 4,
 "nbformat_minor": 2
}
