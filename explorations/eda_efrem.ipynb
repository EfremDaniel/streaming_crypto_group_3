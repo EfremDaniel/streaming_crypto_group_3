{
 "cells": [
  {
   "cell_type": "markdown",
   "metadata": {},
   "source": [
    "# EDA Efrem"
   ]
  },
  {
   "cell_type": "code",
   "execution_count": 27,
   "metadata": {},
   "outputs": [
    {
     "data": {
      "text/plain": [
       "{'status': {'timestamp': '2025-02-12T12:41:38.680Z',\n",
       "  'error_code': 0,\n",
       "  'error_message': None,\n",
       "  'elapsed': 48,\n",
       "  'credit_count': 1,\n",
       "  'notice': None},\n",
       " 'data': {'XPR': {'id': 5350,\n",
       "   'name': 'XPR Network',\n",
       "   'symbol': 'XPR',\n",
       "   'slug': 'proton',\n",
       "   'num_market_pairs': 59,\n",
       "   'date_added': '2020-04-06T00:00:00.000Z',\n",
       "   'tags': ['collectibles-nfts',\n",
       "    'decentralized-exchange-dex-token',\n",
       "    'defi',\n",
       "    'wallet',\n",
       "    'ethereum-ecosystem',\n",
       "    'amm',\n",
       "    'dex',\n",
       "    'governance',\n",
       "    'bnb-chain-ecosystem',\n",
       "    'dwf-labs-portfolio'],\n",
       "   'max_supply': None,\n",
       "   'circulating_supply': 27199241551.3328,\n",
       "   'total_supply': 30147328703.855602,\n",
       "   'is_active': 1,\n",
       "   'infinite_supply': False,\n",
       "   'platform': None,\n",
       "   'cmc_rank': 380,\n",
       "   'is_fiat': 0,\n",
       "   'self_reported_circulating_supply': 27197535409.6717,\n",
       "   'self_reported_market_cap': 100219255.53290986,\n",
       "   'tvl_ratio': None,\n",
       "   'last_updated': '2025-02-12T12:41:00.000Z',\n",
       "   'quote': {'USD': {'price': 0.0036848653388376856,\n",
       "     'volume_24h': 12587634.9490725,\n",
       "     'volume_change_24h': 73.0034,\n",
       "     'percent_change_1h': -0.60729812,\n",
       "     'percent_change_24h': -7.83924321,\n",
       "     'percent_change_7d': -26.75928198,\n",
       "     'percent_change_30d': 172.92184153,\n",
       "     'percent_change_60d': 129.03893644,\n",
       "     'percent_change_90d': 367.1427192,\n",
       "     'market_cap': 100225542.43518001,\n",
       "     'market_cap_dominance': 0.0032,\n",
       "     'fully_diluted_market_cap': 111088846.6,\n",
       "     'tvl': None,\n",
       "     'last_updated': '2025-02-12T12:41:00.000Z'}}}}}"
      ]
     },
     "execution_count": 27,
     "metadata": {},
     "output_type": "execute_result"
    }
   ],
   "source": [
    "from requests import Request, Session\n",
    "from requests.exceptions import ConnectionError, Timeout, TooManyRedirects\n",
    "import json \n",
    "from datetime import datetime, timedelta\n",
    "\n",
    "import os\n",
    "from dotenv import load_dotenv\n",
    " \n",
    "load_dotenv()\n",
    "API_KEY = os.getenv(\"COINMARKET_API\")\n",
    " \n",
    "API_URL = \"https://pro-api.coinmarketcap.com/v1/cryptocurrency/quotes/latest\"\n",
    " \n",
    "target_symbol = \"XPR\"\n",
    " \n",
    "parameters = {\n",
    "  'symbol': target_symbol,\n",
    "  'convert':'USD'\n",
    "}\n",
    " \n",
    "headers = {\n",
    "  'Accepts': 'application/json',\n",
    "  'X-CMC_PRO_API_KEY': API_KEY,\n",
    "}\n",
    " \n",
    "session = Session()\n",
    "session.headers.update(headers)\n",
    " \n",
    "try:\n",
    "  response = session.get(API_URL , params=parameters)\n",
    "  data = json.loads(response.text)\n",
    "except (ConnectionError, Timeout, TooManyRedirects) as e:\n",
    "  print(e)\n",
    " \n",
    "data\n",
    "    "
   ]
  },
  {
   "cell_type": "code",
   "execution_count": null,
   "metadata": {},
   "outputs": [],
   "source": [
    "data['data'] "
   ]
  },
  {
   "cell_type": "code",
   "execution_count": 3,
   "metadata": {},
   "outputs": [],
   "source": [
    "XPR_data = data[\"data\"][\"XPR\"]\n",
    "\n",
    "name = data[\"data\"][\"XPR\"][\"name\"]\n",
    "symbol = data[\"data\"][\"XPR\"][\"symbol\"]\n",
    "id = data[\"data\"][\"XPR\"][\"id\"]\n",
    "\n",
    "suply = data[\"data\"][\"XPR\"][\"num_market_pairs\"], data[\"data\"][\"XPR\"][\"max_supply\"], data[\"data\"][\"XPR\"][\"circulating_supply\"],data[\"data\"][\"XPR\"][\"infinite_supply\"]\n",
    "quote = XPR_data[\"quote\"][\"USD\"][\"last_updated\"]\n",
    "cap = data[\"data\"][\"XPR\"][\"self_reported_market_cap\"]"
   ]
  },
  {
   "cell_type": "code",
   "execution_count": 12,
   "metadata": {},
   "outputs": [],
   "source": [
    "date = data[\"status\"][\"timestamp\"][:10]"
   ]
  },
  {
   "cell_type": "code",
   "execution_count": 21,
   "metadata": {},
   "outputs": [],
   "source": [
    "time = data[\"status\"][\"timestamp\"][11:16] "
   ]
  },
  {
   "cell_type": "code",
   "execution_count": 35,
   "metadata": {},
   "outputs": [],
   "source": [
    "timestamp = data[\"status\"][\"timestamp\"]\n",
    "dt = datetime.fromisoformat(timestamp.replace(\"Z\", \"+00:00\")) \n",
    "new_dt = dt + timedelta(hours=1)\n",
    "new_time = new_dt.strftime(\"%H:%M\") "
   ]
  },
  {
   "cell_type": "code",
   "execution_count": 34,
   "metadata": {},
   "outputs": [
    {
     "data": {
      "text/plain": [
       "'13:26'"
      ]
     },
     "execution_count": 34,
     "metadata": {},
     "output_type": "execute_result"
    }
   ],
   "source": [
    "new_time"
   ]
  }
 ],
 "metadata": {
  "kernelspec": {
   "display_name": ".venv",
   "language": "python",
   "name": "python3"
  },
  "language_info": {
   "codemirror_mode": {
    "name": "ipython",
    "version": 3
   },
   "file_extension": ".py",
   "mimetype": "text/x-python",
   "name": "python",
   "nbconvert_exporter": "python",
   "pygments_lexer": "ipython3",
   "version": "3.12.5"
  }
 },
 "nbformat": 4,
 "nbformat_minor": 2
}
