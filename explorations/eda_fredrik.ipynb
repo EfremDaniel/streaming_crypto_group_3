{
 "cells": [
  {
   "cell_type": "markdown",
   "metadata": {},
   "source": [
    "# EDA Fredrik"
   ]
  },
  {
   "cell_type": "code",
   "execution_count": null,
   "metadata": {},
   "outputs": [
    {
     "data": {
      "text/plain": [
       "{'status': {'timestamp': '2025-02-17T08:42:10.785Z',\n",
       "  'error_code': 0,\n",
       "  'error_message': None,\n",
       "  'elapsed': 17,\n",
       "  'credit_count': 1,\n",
       "  'notice': None},\n",
       " 'data': {'XRP': {'id': 52,\n",
       "   'name': 'XRP',\n",
       "   'symbol': 'XRP',\n",
       "   'slug': 'xrp',\n",
       "   'num_market_pairs': 1534,\n",
       "   'date_added': '2013-08-04T00:00:00.000Z',\n",
       "   'tags': ['medium-of-exchange',\n",
       "    'enterprise-solutions',\n",
       "    'xrp-ecosystem',\n",
       "    'arrington-xrp-capital-portfolio',\n",
       "    'galaxy-digital-portfolio',\n",
       "    'a16z-portfolio',\n",
       "    'pantera-capital-portfolio',\n",
       "    'ftx-bankruptcy-estate',\n",
       "    '2017-2018-alt-season',\n",
       "    'klaytn-ecosystem',\n",
       "    'made-in-america'],\n",
       "   'max_supply': 100000000000,\n",
       "   'circulating_supply': 57818864895,\n",
       "   'total_supply': 99986451428,\n",
       "   'is_active': 1,\n",
       "   'infinite_supply': False,\n",
       "   'platform': None,\n",
       "   'cmc_rank': 3,\n",
       "   'is_fiat': 0,\n",
       "   'self_reported_circulating_supply': None,\n",
       "   'self_reported_market_cap': None,\n",
       "   'tvl_ratio': None,\n",
       "   'last_updated': '2025-02-17T08:40:00.000Z',\n",
       "   'quote': {'USD': {'price': 2.6572203347760923,\n",
       "     'volume_24h': 4124103455.74153,\n",
       "     'volume_change_24h': 6.9839,\n",
       "     'percent_change_1h': 0.33731595,\n",
       "     'percent_change_24h': -4.19272583,\n",
       "     'percent_change_7d': 9.48409406,\n",
       "     'percent_change_30d': -15.09109166,\n",
       "     'percent_change_60d': 12.78078631,\n",
       "     'percent_change_90d': 143.5790944,\n",
       "     'market_cap': 153637463532.66556,\n",
       "     'market_cap_dominance': 4.8273,\n",
       "     'fully_diluted_market_cap': 265722033477.61,\n",
       "     'tvl': None,\n",
       "     'last_updated': '2025-02-17T08:40:00.000Z'}}}}}"
      ]
     },
     "execution_count": 3,
     "metadata": {},
     "output_type": "execute_result"
    }
   ],
   "source": [
    "from requests import Request, Session\n",
    "from requests.exceptions import ConnectionError, Timeout, TooManyRedirects\n",
    "import json\n",
    "from dotenv import load_dotenv\n",
    "import os\n",
    "\n",
    "target_symbol = \"XRP\"\n",
    "\n",
    "load_dotenv()\n",
    "API_KEY = os.getenv(\"COINMARKET_API\")\n",
    "\n",
    "url = 'https://pro-api.coinmarketcap.com/v1/cryptocurrency/quotes/latest'\n",
    "parameters = {\n",
    "  \"symbol\" : target_symbol,\n",
    "  \"convert\": \"USD\" # SEK , NOK , EUR , DKK , ISK\n",
    "}\n",
    "headers = {\n",
    "  'Accepts': 'application/json',\n",
    "  'X-CMC_PRO_API_KEY': API_KEY,\n",
    "}\n",
    "\n",
    "session = Session()\n",
    "session.headers.update(headers)\n",
    "\n",
    "try:\n",
    "  response = session.get(url, params=parameters)\n",
    "  data = json.loads(response.text)\n",
    "except (ConnectionError, Timeout, TooManyRedirects) as e:\n",
    "  print(e)\n",
    "\n",
    "data"
   ]
  },
  {
   "cell_type": "code",
   "execution_count": 7,
   "metadata": {},
   "outputs": [
    {
     "data": {
      "text/plain": [
       "dict_keys(['status', 'data'])"
      ]
     },
     "execution_count": 7,
     "metadata": {},
     "output_type": "execute_result"
    }
   ],
   "source": [
    "data.keys()"
   ]
  },
  {
   "cell_type": "code",
   "execution_count": 8,
   "metadata": {},
   "outputs": [
    {
     "data": {
      "text/plain": [
       "{'XRP': {'id': 52,\n",
       "  'name': 'XRP',\n",
       "  'symbol': 'XRP',\n",
       "  'slug': 'xrp',\n",
       "  'num_market_pairs': 1528,\n",
       "  'date_added': '2013-08-04T00:00:00.000Z',\n",
       "  'tags': ['medium-of-exchange',\n",
       "   'enterprise-solutions',\n",
       "   'xrp-ecosystem',\n",
       "   'arrington-xrp-capital-portfolio',\n",
       "   'galaxy-digital-portfolio',\n",
       "   'a16z-portfolio',\n",
       "   'pantera-capital-portfolio',\n",
       "   'bnb-chain-ecosystem',\n",
       "   'ftx-bankruptcy-estate',\n",
       "   '2017-2018-alt-season',\n",
       "   'klaytn-ecosystem',\n",
       "   'made-in-america'],\n",
       "  'max_supply': 100000000000,\n",
       "  'circulating_supply': 57762545657,\n",
       "  'total_supply': 99986504676,\n",
       "  'is_active': 1,\n",
       "  'infinite_supply': False,\n",
       "  'platform': None,\n",
       "  'cmc_rank': 4,\n",
       "  'is_fiat': 0,\n",
       "  'self_reported_circulating_supply': None,\n",
       "  'self_reported_market_cap': None,\n",
       "  'tvl_ratio': None,\n",
       "  'last_updated': '2025-02-12T08:45:00.000Z',\n",
       "  'quote': {'USD': {'price': 2.4178866563959276,\n",
       "    'volume_24h': 4623650499.437843,\n",
       "    'volume_change_24h': 3.528,\n",
       "    'percent_change_1h': 0.2464187,\n",
       "    'percent_change_24h': -3.7142825,\n",
       "    'percent_change_7d': -3.58516249,\n",
       "    'percent_change_30d': -0.76361461,\n",
       "    'percent_change_60d': -2.03681231,\n",
       "    'percent_change_90d': 242.21336092,\n",
       "    'market_cap': 139663288383.52084,\n",
       "    'market_cap_dominance': 4.4202,\n",
       "    'fully_diluted_market_cap': 241788665639.59,\n",
       "    'tvl': None,\n",
       "    'last_updated': '2025-02-12T08:45:00.000Z'}}}}"
      ]
     },
     "execution_count": 8,
     "metadata": {},
     "output_type": "execute_result"
    }
   ],
   "source": [
    "data[\"data\"]"
   ]
  },
  {
   "cell_type": "code",
   "execution_count": 10,
   "metadata": {},
   "outputs": [
    {
     "data": {
      "text/plain": [
       "dict_keys(['id', 'name', 'symbol', 'slug', 'num_market_pairs', 'date_added', 'tags', 'max_supply', 'circulating_supply', 'total_supply', 'is_active', 'infinite_supply', 'platform', 'cmc_rank', 'is_fiat', 'self_reported_circulating_supply', 'self_reported_market_cap', 'tvl_ratio', 'last_updated', 'quote'])"
      ]
     },
     "execution_count": 10,
     "metadata": {},
     "output_type": "execute_result"
    }
   ],
   "source": [
    "XRP_data = data[\"data\"][\"XRP\"]\n",
    "XRP_data.keys()"
   ]
  },
  {
   "cell_type": "code",
   "execution_count": 24,
   "metadata": {},
   "outputs": [
    {
     "data": {
      "text/plain": [
       "{'price': 2.4178866563959276,\n",
       " 'volume_24h': 4623650499.437843,\n",
       " 'volume_change_24h': 3.528,\n",
       " 'percent_change_1h': 0.2464187,\n",
       " 'percent_change_24h': -3.7142825,\n",
       " 'percent_change_7d': -3.58516249,\n",
       " 'percent_change_30d': -0.76361461,\n",
       " 'percent_change_60d': -2.03681231,\n",
       " 'percent_change_90d': 242.21336092,\n",
       " 'market_cap': 139663288383.52084,\n",
       " 'market_cap_dominance': 4.4202,\n",
       " 'fully_diluted_market_cap': 241788665639.59,\n",
       " 'tvl': None,\n",
       " 'last_updated': '2025-02-12T08:45:00.000Z'}"
      ]
     },
     "execution_count": 24,
     "metadata": {},
     "output_type": "execute_result"
    }
   ],
   "source": [
    "quote_values = XRP_data[\"quote\"][\"USD\"]\n",
    "quote_values"
   ]
  },
  {
   "cell_type": "code",
   "execution_count": 29,
   "metadata": {},
   "outputs": [
    {
     "data": {
      "text/plain": [
       "('XRP',\n",
       " '2025-02-12T08:45:00.000Z',\n",
       " 2.4178866563959276,\n",
       " 0.2464187,\n",
       " -3.7142825,\n",
       " -3.58516249)"
      ]
     },
     "execution_count": 29,
     "metadata": {},
     "output_type": "execute_result"
    }
   ],
   "source": [
    "XRP_data[\"name\"], XRP_data[\"last_updated\"], quote_values[\"price\"], quote_values[\"percent_change_1h\"], quote_values[\"percent_change_24h\"], quote_values[\"percent_change_7d\"]"
   ]
  }
 ],
 "metadata": {
  "kernelspec": {
   "display_name": ".venv",
   "language": "python",
   "name": "python3"
  },
  "language_info": {
   "codemirror_mode": {
    "name": "ipython",
    "version": 3
   },
   "file_extension": ".py",
   "mimetype": "text/x-python",
   "name": "python",
   "nbconvert_exporter": "python",
   "pygments_lexer": "ipython3",
   "version": "3.12.5"
  }
 },
 "nbformat": 4,
 "nbformat_minor": 2
}
