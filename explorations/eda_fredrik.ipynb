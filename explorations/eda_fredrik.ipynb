{
 "cells": [
  {
   "cell_type": "markdown",
   "metadata": {},
   "source": [
    "# EDA Fredrik"
   ]
  },
  {
   "cell_type": "code",
   "execution_count": 37,
   "metadata": {},
   "outputs": [
    {
     "data": {
      "text/plain": [
       "{'status': {'timestamp': '2025-02-18T16:58:33.871Z',\n",
       "  'error_code': 0,\n",
       "  'error_message': None,\n",
       "  'elapsed': 112,\n",
       "  'credit_count': 1,\n",
       "  'notice': None},\n",
       " 'data': {'XRP': {'id': 52,\n",
       "   'name': 'XRP',\n",
       "   'symbol': 'XRP',\n",
       "   'slug': 'xrp',\n",
       "   'num_market_pairs': 1534,\n",
       "   'date_added': '2013-08-04T00:00:00.000Z',\n",
       "   'tags': ['medium-of-exchange',\n",
       "    'enterprise-solutions',\n",
       "    'xrp-ecosystem',\n",
       "    'arrington-xrp-capital-portfolio',\n",
       "    'galaxy-digital-portfolio',\n",
       "    'a16z-portfolio',\n",
       "    'pantera-capital-portfolio',\n",
       "    'ftx-bankruptcy-estate',\n",
       "    '2017-2018-alt-season',\n",
       "    'klaytn-ecosystem',\n",
       "    'made-in-america'],\n",
       "   'max_supply': 100000000000,\n",
       "   'circulating_supply': 57818864895,\n",
       "   'total_supply': 99986451428,\n",
       "   'is_active': 1,\n",
       "   'infinite_supply': False,\n",
       "   'platform': None,\n",
       "   'cmc_rank': 3,\n",
       "   'is_fiat': 0,\n",
       "   'self_reported_circulating_supply': None,\n",
       "   'self_reported_market_cap': None,\n",
       "   'tvl_ratio': None,\n",
       "   'last_updated': '2025-02-18T16:56:00.000Z',\n",
       "   'quote': {'USD': {'price': 2.5000468307974995,\n",
       "     'volume_24h': 4960652468.844769,\n",
       "     'volume_change_24h': 4.9596,\n",
       "     'percent_change_1h': -1.54392758,\n",
       "     'percent_change_24h': -4.69684875,\n",
       "     'percent_change_7d': 1.57759097,\n",
       "     'percent_change_30d': -20.49363096,\n",
       "     'percent_change_60d': 12.73674404,\n",
       "     'percent_change_90d': 128.44631273,\n",
       "     'market_cap': 144549869941.05356,\n",
       "     'market_cap_dominance': 4.6556,\n",
       "     'fully_diluted_market_cap': 250004683079.75,\n",
       "     'tvl': None,\n",
       "     'last_updated': '2025-02-18T16:56:00.000Z'}}}}}"
      ]
     },
     "execution_count": 37,
     "metadata": {},
     "output_type": "execute_result"
    }
   ],
   "source": [
    "from requests import Request, Session\n",
    "from requests.exceptions import ConnectionError, Timeout, TooManyRedirects\n",
    "import json\n",
    "from dotenv import load_dotenv\n",
    "import os\n",
    "\n",
    "target_symbol = \"XRP\"\n",
    "\n",
    "load_dotenv()\n",
    "API_KEY = os.getenv(\"COINMARKET_API\")\n",
    "\n",
    "url = 'https://pro-api.coinmarketcap.com/v1/cryptocurrency/quotes/latest'\n",
    "parameters = {\n",
    "  \"symbol\" : target_symbol,\n",
    "  \"convert\": \"USD\" # SEK , NOK , EUR , DKK , ISK\n",
    "}\n",
    "headers = {\n",
    "  'Accepts': 'application/json',\n",
    "  'X-CMC_PRO_API_KEY': API_KEY,\n",
    "}\n",
    "\n",
    "session = Session()\n",
    "session.headers.update(headers)\n",
    "\n",
    "try:\n",
    "  response = session.get(url, params=parameters)\n",
    "  data = json.loads(response.text)\n",
    "except (ConnectionError, Timeout, TooManyRedirects) as e:\n",
    "  print(e)\n",
    "\n",
    "data"
   ]
  },
  {
   "cell_type": "code",
   "execution_count": 38,
   "metadata": {},
   "outputs": [
    {
     "data": {
      "text/plain": [
       "dict_keys(['status', 'data'])"
      ]
     },
     "execution_count": 38,
     "metadata": {},
     "output_type": "execute_result"
    }
   ],
   "source": [
    "data.keys()"
   ]
  },
  {
   "cell_type": "code",
   "execution_count": 39,
   "metadata": {},
   "outputs": [
    {
     "data": {
      "text/plain": [
       "{'XRP': {'id': 52,\n",
       "  'name': 'XRP',\n",
       "  'symbol': 'XRP',\n",
       "  'slug': 'xrp',\n",
       "  'num_market_pairs': 1534,\n",
       "  'date_added': '2013-08-04T00:00:00.000Z',\n",
       "  'tags': ['medium-of-exchange',\n",
       "   'enterprise-solutions',\n",
       "   'xrp-ecosystem',\n",
       "   'arrington-xrp-capital-portfolio',\n",
       "   'galaxy-digital-portfolio',\n",
       "   'a16z-portfolio',\n",
       "   'pantera-capital-portfolio',\n",
       "   'ftx-bankruptcy-estate',\n",
       "   '2017-2018-alt-season',\n",
       "   'klaytn-ecosystem',\n",
       "   'made-in-america'],\n",
       "  'max_supply': 100000000000,\n",
       "  'circulating_supply': 57818864895,\n",
       "  'total_supply': 99986451428,\n",
       "  'is_active': 1,\n",
       "  'infinite_supply': False,\n",
       "  'platform': None,\n",
       "  'cmc_rank': 3,\n",
       "  'is_fiat': 0,\n",
       "  'self_reported_circulating_supply': None,\n",
       "  'self_reported_market_cap': None,\n",
       "  'tvl_ratio': None,\n",
       "  'last_updated': '2025-02-18T16:56:00.000Z',\n",
       "  'quote': {'USD': {'price': 2.5000468307974995,\n",
       "    'volume_24h': 4960652468.844769,\n",
       "    'volume_change_24h': 4.9596,\n",
       "    'percent_change_1h': -1.54392758,\n",
       "    'percent_change_24h': -4.69684875,\n",
       "    'percent_change_7d': 1.57759097,\n",
       "    'percent_change_30d': -20.49363096,\n",
       "    'percent_change_60d': 12.73674404,\n",
       "    'percent_change_90d': 128.44631273,\n",
       "    'market_cap': 144549869941.05356,\n",
       "    'market_cap_dominance': 4.6556,\n",
       "    'fully_diluted_market_cap': 250004683079.75,\n",
       "    'tvl': None,\n",
       "    'last_updated': '2025-02-18T16:56:00.000Z'}}}}"
      ]
     },
     "execution_count": 39,
     "metadata": {},
     "output_type": "execute_result"
    }
   ],
   "source": [
    "data[\"data\"]"
   ]
  },
  {
   "cell_type": "code",
   "execution_count": 40,
   "metadata": {},
   "outputs": [
    {
     "data": {
      "text/plain": [
       "dict_keys(['id', 'name', 'symbol', 'slug', 'num_market_pairs', 'date_added', 'tags', 'max_supply', 'circulating_supply', 'total_supply', 'is_active', 'infinite_supply', 'platform', 'cmc_rank', 'is_fiat', 'self_reported_circulating_supply', 'self_reported_market_cap', 'tvl_ratio', 'last_updated', 'quote'])"
      ]
     },
     "execution_count": 40,
     "metadata": {},
     "output_type": "execute_result"
    }
   ],
   "source": [
    "XRP_data = data[\"data\"][\"XRP\"]\n",
    "XRP_data.keys()"
   ]
  },
  {
   "cell_type": "code",
   "execution_count": 41,
   "metadata": {},
   "outputs": [
    {
     "data": {
      "text/plain": [
       "{'price': 2.5000468307974995,\n",
       " 'volume_24h': 4960652468.844769,\n",
       " 'volume_change_24h': 4.9596,\n",
       " 'percent_change_1h': -1.54392758,\n",
       " 'percent_change_24h': -4.69684875,\n",
       " 'percent_change_7d': 1.57759097,\n",
       " 'percent_change_30d': -20.49363096,\n",
       " 'percent_change_60d': 12.73674404,\n",
       " 'percent_change_90d': 128.44631273,\n",
       " 'market_cap': 144549869941.05356,\n",
       " 'market_cap_dominance': 4.6556,\n",
       " 'fully_diluted_market_cap': 250004683079.75,\n",
       " 'tvl': None,\n",
       " 'last_updated': '2025-02-18T16:56:00.000Z'}"
      ]
     },
     "execution_count": 41,
     "metadata": {},
     "output_type": "execute_result"
    }
   ],
   "source": [
    "quote_values = XRP_data[\"quote\"][\"USD\"]\n",
    "quote_values"
   ]
  },
  {
   "cell_type": "code",
   "execution_count": 42,
   "metadata": {},
   "outputs": [
    {
     "data": {
      "text/plain": [
       "('XRP',\n",
       " '2025-02-18T16:56:00.000Z',\n",
       " 2.5000468307974995,\n",
       " -1.54392758,\n",
       " -4.69684875,\n",
       " 1.57759097)"
      ]
     },
     "execution_count": 42,
     "metadata": {},
     "output_type": "execute_result"
    }
   ],
   "source": [
    "XRP_data[\"name\"], XRP_data[\"last_updated\"], quote_values[\"price\"], quote_values[\"percent_change_1h\"], quote_values[\"percent_change_24h\"], quote_values[\"percent_change_7d\"]"
   ]
  },
  {
   "cell_type": "code",
   "execution_count": 44,
   "metadata": {},
   "outputs": [
    {
     "data": {
      "text/plain": [
       "-4.69684875"
      ]
     },
     "execution_count": 44,
     "metadata": {},
     "output_type": "execute_result"
    }
   ],
   "source": [
    "percent_change_1day = quote_values[\"percent_change_24h\"]\n",
    "percent_change_1day"
   ]
  },
  {
   "cell_type": "code",
   "execution_count": 43,
   "metadata": {},
   "outputs": [
    {
     "data": {
      "text/plain": [
       "4960652468.844769"
      ]
     },
     "execution_count": 43,
     "metadata": {},
     "output_type": "execute_result"
    }
   ],
   "source": [
    "volume_24 = quote_values[\"volume_24h\"]\n",
    "volume_24"
   ]
  },
  {
   "cell_type": "code",
   "execution_count": 46,
   "metadata": {},
   "outputs": [
    {
     "name": "stdout",
     "output_type": "stream",
     "text": [
      "4961M\n"
     ]
    }
   ],
   "source": [
    "print(f\"{volume_24/1000000:.0f}M\" if volume_24 >= 1000000 else f\"{volume_24:.0f}\")"
   ]
  }
 ],
 "metadata": {
  "kernelspec": {
   "display_name": ".venv",
   "language": "python",
   "name": "python3"
  },
  "language_info": {
   "codemirror_mode": {
    "name": "ipython",
    "version": 3
   },
   "file_extension": ".py",
   "mimetype": "text/x-python",
   "name": "python",
   "nbconvert_exporter": "python",
   "pygments_lexer": "ipython3",
   "version": "3.12.5"
  }
 },
 "nbformat": 4,
 "nbformat_minor": 2
}
