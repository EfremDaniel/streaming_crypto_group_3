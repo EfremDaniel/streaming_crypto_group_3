{
 "cells": [
  {
   "cell_type": "markdown",
   "metadata": {},
   "source": [
    "# EDA Kanilla"
   ]
  },
  {
   "cell_type": "code",
   "execution_count": 58,
   "metadata": {},
   "outputs": [
    {
     "data": {
      "text/plain": [
       "{'status': {'timestamp': '2025-02-17T09:16:29.768Z',\n",
       "  'error_code': 0,\n",
       "  'error_message': None,\n",
       "  'elapsed': 28,\n",
       "  'credit_count': 1,\n",
       "  'notice': None},\n",
       " 'data': {'XRP': {'id': 52,\n",
       "   'name': 'XRP',\n",
       "   'symbol': 'XRP',\n",
       "   'slug': 'xrp',\n",
       "   'num_market_pairs': 1534,\n",
       "   'date_added': '2013-08-04T00:00:00.000Z',\n",
       "   'tags': ['medium-of-exchange',\n",
       "    'enterprise-solutions',\n",
       "    'xrp-ecosystem',\n",
       "    'arrington-xrp-capital-portfolio',\n",
       "    'galaxy-digital-portfolio',\n",
       "    'a16z-portfolio',\n",
       "    'pantera-capital-portfolio',\n",
       "    'ftx-bankruptcy-estate',\n",
       "    '2017-2018-alt-season',\n",
       "    'klaytn-ecosystem',\n",
       "    'made-in-america'],\n",
       "   'max_supply': 100000000000,\n",
       "   'circulating_supply': 57818864895,\n",
       "   'total_supply': 99986451428,\n",
       "   'is_active': 1,\n",
       "   'infinite_supply': False,\n",
       "   'platform': None,\n",
       "   'cmc_rank': 3,\n",
       "   'is_fiat': 0,\n",
       "   'self_reported_circulating_supply': None,\n",
       "   'self_reported_market_cap': None,\n",
       "   'tvl_ratio': None,\n",
       "   'last_updated': '2025-02-17T09:15:00.000Z',\n",
       "   'quote': {'USD': {'price': 2.684358902815056,\n",
       "     'volume_24h': 4173463625.9521112,\n",
       "     'volume_change_24h': 8.9765,\n",
       "     'percent_change_1h': 0.75082355,\n",
       "     'percent_change_24h': -2.46905039,\n",
       "     'percent_change_7d': 9.69016325,\n",
       "     'percent_change_30d': -14.23415719,\n",
       "     'percent_change_60d': 13.4605746,\n",
       "     'percent_change_90d': 143.62348421,\n",
       "     'market_cap': 155206584731.55417,\n",
       "     'market_cap_dominance': 4.857,\n",
       "     'fully_diluted_market_cap': 268435890281.51,\n",
       "     'tvl': None,\n",
       "     'last_updated': '2025-02-17T09:15:00.000Z'}}}}}"
      ]
     },
     "execution_count": 58,
     "metadata": {},
     "output_type": "execute_result"
    }
   ],
   "source": [
    "from requests import request, Session\n",
    "from requests.exceptions import ConnectionError, Timeout, TooManyRedirects\n",
    "import json\n",
    "from dotenv import load_dotenv\n",
    "import os\n",
    "\n",
    "target_symbol = \"XRP\"\n",
    "\n",
    "load_dotenv()\n",
    "API_KEY = os.getenv(\"COINMARKET_API\")\n",
    "\n",
    "url = 'https://pro-api.coinmarketcap.com/v1/cryptocurrency/quotes/latest'\n",
    "parameters = {\n",
    "  \"symbol\" : target_symbol,\n",
    "  \"convert\": \"USD\"\n",
    "}\n",
    "headers = {\n",
    "  'Accepts': 'application/json',\n",
    "  'X-CMC_PRO_API_KEY': API_KEY,\n",
    "}\n",
    "\n",
    "session = Session()\n",
    "session.headers.update(headers)\n",
    "\n",
    "try:\n",
    "  response = session.get(url, params=parameters)\n",
    "  data = json.loads(response.text)\n",
    "except (ConnectionError, Timeout, TooManyRedirects) as e:\n",
    "  print(e)\n",
    "\n",
    "data"
   ]
  },
  {
   "cell_type": "code",
   "execution_count": 59,
   "metadata": {},
   "outputs": [
    {
     "data": {
      "text/plain": [
       "dict_keys(['status', 'data'])"
      ]
     },
     "execution_count": 59,
     "metadata": {},
     "output_type": "execute_result"
    }
   ],
   "source": [
    "data.keys()"
   ]
  },
  {
   "cell_type": "code",
   "execution_count": 60,
   "metadata": {},
   "outputs": [
    {
     "data": {
      "text/plain": [
       "{'XRP': {'id': 52,\n",
       "  'name': 'XRP',\n",
       "  'symbol': 'XRP',\n",
       "  'slug': 'xrp',\n",
       "  'num_market_pairs': 1534,\n",
       "  'date_added': '2013-08-04T00:00:00.000Z',\n",
       "  'tags': ['medium-of-exchange',\n",
       "   'enterprise-solutions',\n",
       "   'xrp-ecosystem',\n",
       "   'arrington-xrp-capital-portfolio',\n",
       "   'galaxy-digital-portfolio',\n",
       "   'a16z-portfolio',\n",
       "   'pantera-capital-portfolio',\n",
       "   'ftx-bankruptcy-estate',\n",
       "   '2017-2018-alt-season',\n",
       "   'klaytn-ecosystem',\n",
       "   'made-in-america'],\n",
       "  'max_supply': 100000000000,\n",
       "  'circulating_supply': 57818864895,\n",
       "  'total_supply': 99986451428,\n",
       "  'is_active': 1,\n",
       "  'infinite_supply': False,\n",
       "  'platform': None,\n",
       "  'cmc_rank': 3,\n",
       "  'is_fiat': 0,\n",
       "  'self_reported_circulating_supply': None,\n",
       "  'self_reported_market_cap': None,\n",
       "  'tvl_ratio': None,\n",
       "  'last_updated': '2025-02-17T09:15:00.000Z',\n",
       "  'quote': {'USD': {'price': 2.684358902815056,\n",
       "    'volume_24h': 4173463625.9521112,\n",
       "    'volume_change_24h': 8.9765,\n",
       "    'percent_change_1h': 0.75082355,\n",
       "    'percent_change_24h': -2.46905039,\n",
       "    'percent_change_7d': 9.69016325,\n",
       "    'percent_change_30d': -14.23415719,\n",
       "    'percent_change_60d': 13.4605746,\n",
       "    'percent_change_90d': 143.62348421,\n",
       "    'market_cap': 155206584731.55417,\n",
       "    'market_cap_dominance': 4.857,\n",
       "    'fully_diluted_market_cap': 268435890281.51,\n",
       "    'tvl': None,\n",
       "    'last_updated': '2025-02-17T09:15:00.000Z'}}}}"
      ]
     },
     "execution_count": 60,
     "metadata": {},
     "output_type": "execute_result"
    }
   ],
   "source": [
    "data[\"data\"]"
   ]
  },
  {
   "cell_type": "code",
   "execution_count": 61,
   "metadata": {},
   "outputs": [
    {
     "data": {
      "text/plain": [
       "dict_keys(['id', 'name', 'symbol', 'slug', 'num_market_pairs', 'date_added', 'tags', 'max_supply', 'circulating_supply', 'total_supply', 'is_active', 'infinite_supply', 'platform', 'cmc_rank', 'is_fiat', 'self_reported_circulating_supply', 'self_reported_market_cap', 'tvl_ratio', 'last_updated', 'quote'])"
      ]
     },
     "execution_count": 61,
     "metadata": {},
     "output_type": "execute_result"
    }
   ],
   "source": [
    "XRP_data = data[\"data\"][\"XRP\"]\n",
    "XRP_data.keys()"
   ]
  },
  {
   "cell_type": "code",
   "execution_count": 62,
   "metadata": {},
   "outputs": [
    {
     "data": {
      "text/plain": [
       "{'price': 2.684358902815056,\n",
       " 'volume_24h': 4173463625.9521112,\n",
       " 'volume_change_24h': 8.9765,\n",
       " 'percent_change_1h': 0.75082355,\n",
       " 'percent_change_24h': -2.46905039,\n",
       " 'percent_change_7d': 9.69016325,\n",
       " 'percent_change_30d': -14.23415719,\n",
       " 'percent_change_60d': 13.4605746,\n",
       " 'percent_change_90d': 143.62348421,\n",
       " 'market_cap': 155206584731.55417,\n",
       " 'market_cap_dominance': 4.857,\n",
       " 'fully_diluted_market_cap': 268435890281.51,\n",
       " 'tvl': None,\n",
       " 'last_updated': '2025-02-17T09:15:00.000Z'}"
      ]
     },
     "execution_count": 62,
     "metadata": {},
     "output_type": "execute_result"
    }
   ],
   "source": [
    "quote_values = XRP_data[\"quote\"][\"USD\"]\n",
    "quote_values"
   ]
  },
  {
   "cell_type": "code",
   "execution_count": 63,
   "metadata": {},
   "outputs": [
    {
     "data": {
      "text/plain": [
       "('XRP',\n",
       " '2025-02-17T09:15:00.000Z',\n",
       " 2.684358902815056,\n",
       " 0.75082355,\n",
       " -2.46905039,\n",
       " 9.69016325)"
      ]
     },
     "execution_count": 63,
     "metadata": {},
     "output_type": "execute_result"
    }
   ],
   "source": [
    "XRP_data[\"name\"], XRP_data[\"last_updated\"], quote_values[\"price\"], quote_values[\"percent_change_1h\"], quote_values[\"percent_change_24h\"], quote_values[\"percent_change_7d\"]"
   ]
  }
 ],
 "metadata": {
  "kernelspec": {
   "display_name": ".venv",
   "language": "python",
   "name": "python3"
  },
  "language_info": {
   "codemirror_mode": {
    "name": "ipython",
    "version": 3
   },
   "file_extension": ".py",
   "mimetype": "text/x-python",
   "name": "python",
   "nbconvert_exporter": "python",
   "pygments_lexer": "ipython3",
   "version": "3.12.9"
  }
 },
 "nbformat": 4,
 "nbformat_minor": 2
}
